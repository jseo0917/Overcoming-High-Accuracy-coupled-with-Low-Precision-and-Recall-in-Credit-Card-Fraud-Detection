{
  "cells": [
    {
      "cell_type": "markdown",
      "metadata": {
        "id": "tGo5AIGMy5EK"
      },
      "source": [
        "## Data analysis for cybersecurity Final Team Project\n",
        "### Team members: Leon Lin, Jung Hoon Seo"
      ]
    },
    {
      "cell_type": "markdown",
      "metadata": {
        "id": "3IRWiCwRy5EM"
      },
      "source": [
        "## Setup: Import Libraries and Data"
      ]
    },
    {
      "cell_type": "markdown",
      "metadata": {
        "id": "i-tzY-wzy5EM"
      },
      "source": [
        "Dataset Download: https://www.kaggle.com/datasets/mlg-ulb/creditcardfraud\n",
        "\n",
        "In this project, we are using Credit Card Fraud detection Dataset from Kaggle. The dataset contains 30 features with a class (0 = Regular Transaction, 1 = Fraud).\n",
        "\n"
      ]
    },
    {
      "cell_type": "code",
      "execution_count": null,
      "metadata": {
        "id": "MRk0z2xSy5EN"
      },
      "outputs": [],
      "source": [
        "# !pip install imbalanced-learn\n",
        "import os\n",
        "from sklearn.linear_model import LogisticRegression\n",
        "import pandas as pd\n",
        "import numpy as np\n",
        "import matplotlib.pyplot as plt\n",
        "import seaborn as sns\n",
        "from sklearn.datasets import load_iris\n",
        "from sklearn.naive_bayes import GaussianNB\n",
        "from sklearn.ensemble import RandomForestClassifier\n",
        "from sklearn.model_selection import train_test_split\n",
        "from sklearn.metrics import classification_report\n",
        "from sklearn.utils import resample\n",
        "from sklearn.metrics import confusion_matrix\n",
        "from imblearn.under_sampling import RandomUnderSampler\n",
        "from sklearn.svm import SVC\n",
        "from sklearn.metrics import accuracy_score"
      ]
    },
    {
      "cell_type": "code",
      "execution_count": null,
      "metadata": {
        "id": "T2onn-T-y5EO"
      },
      "outputs": [],
      "source": [
        "current_path = os.getcwd()\n",
        "csv_file_path = current_path + \"/Desktop/creditcard.csv\""
      ]
    },
    {
      "cell_type": "code",
      "execution_count": null,
      "metadata": {
        "id": "7qg6h28gy5EO"
      },
      "outputs": [],
      "source": [
        "creditcard = pd.read_csv(csv_file_path)"
      ]
    },
    {
      "cell_type": "code",
      "execution_count": null,
      "metadata": {
        "id": "rPHqVjWPy5EP",
        "outputId": "e19cca4c-3aff-4ce9-f0bc-612a40775a67"
      },
      "outputs": [
        {
          "data": {
            "text/html": [
              "<div>\n",
              "<style scoped>\n",
              "    .dataframe tbody tr th:only-of-type {\n",
              "        vertical-align: middle;\n",
              "    }\n",
              "\n",
              "    .dataframe tbody tr th {\n",
              "        vertical-align: top;\n",
              "    }\n",
              "\n",
              "    .dataframe thead th {\n",
              "        text-align: right;\n",
              "    }\n",
              "</style>\n",
              "<table border=\"1\" class=\"dataframe\">\n",
              "  <thead>\n",
              "    <tr style=\"text-align: right;\">\n",
              "      <th></th>\n",
              "      <th>Time</th>\n",
              "      <th>V1</th>\n",
              "      <th>V2</th>\n",
              "      <th>V3</th>\n",
              "      <th>V4</th>\n",
              "      <th>V5</th>\n",
              "      <th>V6</th>\n",
              "      <th>V7</th>\n",
              "      <th>V8</th>\n",
              "      <th>V9</th>\n",
              "      <th>...</th>\n",
              "      <th>V21</th>\n",
              "      <th>V22</th>\n",
              "      <th>V23</th>\n",
              "      <th>V24</th>\n",
              "      <th>V25</th>\n",
              "      <th>V26</th>\n",
              "      <th>V27</th>\n",
              "      <th>V28</th>\n",
              "      <th>Amount</th>\n",
              "      <th>Class</th>\n",
              "    </tr>\n",
              "  </thead>\n",
              "  <tbody>\n",
              "    <tr>\n",
              "      <th>0</th>\n",
              "      <td>0.0</td>\n",
              "      <td>-1.359807</td>\n",
              "      <td>-0.072781</td>\n",
              "      <td>2.536347</td>\n",
              "      <td>1.378155</td>\n",
              "      <td>-0.338321</td>\n",
              "      <td>0.462388</td>\n",
              "      <td>0.239599</td>\n",
              "      <td>0.098698</td>\n",
              "      <td>0.363787</td>\n",
              "      <td>...</td>\n",
              "      <td>-0.018307</td>\n",
              "      <td>0.277838</td>\n",
              "      <td>-0.110474</td>\n",
              "      <td>0.066928</td>\n",
              "      <td>0.128539</td>\n",
              "      <td>-0.189115</td>\n",
              "      <td>0.133558</td>\n",
              "      <td>-0.021053</td>\n",
              "      <td>149.62</td>\n",
              "      <td>0</td>\n",
              "    </tr>\n",
              "    <tr>\n",
              "      <th>1</th>\n",
              "      <td>0.0</td>\n",
              "      <td>1.191857</td>\n",
              "      <td>0.266151</td>\n",
              "      <td>0.166480</td>\n",
              "      <td>0.448154</td>\n",
              "      <td>0.060018</td>\n",
              "      <td>-0.082361</td>\n",
              "      <td>-0.078803</td>\n",
              "      <td>0.085102</td>\n",
              "      <td>-0.255425</td>\n",
              "      <td>...</td>\n",
              "      <td>-0.225775</td>\n",
              "      <td>-0.638672</td>\n",
              "      <td>0.101288</td>\n",
              "      <td>-0.339846</td>\n",
              "      <td>0.167170</td>\n",
              "      <td>0.125895</td>\n",
              "      <td>-0.008983</td>\n",
              "      <td>0.014724</td>\n",
              "      <td>2.69</td>\n",
              "      <td>0</td>\n",
              "    </tr>\n",
              "    <tr>\n",
              "      <th>2</th>\n",
              "      <td>1.0</td>\n",
              "      <td>-1.358354</td>\n",
              "      <td>-1.340163</td>\n",
              "      <td>1.773209</td>\n",
              "      <td>0.379780</td>\n",
              "      <td>-0.503198</td>\n",
              "      <td>1.800499</td>\n",
              "      <td>0.791461</td>\n",
              "      <td>0.247676</td>\n",
              "      <td>-1.514654</td>\n",
              "      <td>...</td>\n",
              "      <td>0.247998</td>\n",
              "      <td>0.771679</td>\n",
              "      <td>0.909412</td>\n",
              "      <td>-0.689281</td>\n",
              "      <td>-0.327642</td>\n",
              "      <td>-0.139097</td>\n",
              "      <td>-0.055353</td>\n",
              "      <td>-0.059752</td>\n",
              "      <td>378.66</td>\n",
              "      <td>0</td>\n",
              "    </tr>\n",
              "    <tr>\n",
              "      <th>3</th>\n",
              "      <td>1.0</td>\n",
              "      <td>-0.966272</td>\n",
              "      <td>-0.185226</td>\n",
              "      <td>1.792993</td>\n",
              "      <td>-0.863291</td>\n",
              "      <td>-0.010309</td>\n",
              "      <td>1.247203</td>\n",
              "      <td>0.237609</td>\n",
              "      <td>0.377436</td>\n",
              "      <td>-1.387024</td>\n",
              "      <td>...</td>\n",
              "      <td>-0.108300</td>\n",
              "      <td>0.005274</td>\n",
              "      <td>-0.190321</td>\n",
              "      <td>-1.175575</td>\n",
              "      <td>0.647376</td>\n",
              "      <td>-0.221929</td>\n",
              "      <td>0.062723</td>\n",
              "      <td>0.061458</td>\n",
              "      <td>123.50</td>\n",
              "      <td>0</td>\n",
              "    </tr>\n",
              "    <tr>\n",
              "      <th>4</th>\n",
              "      <td>2.0</td>\n",
              "      <td>-1.158233</td>\n",
              "      <td>0.877737</td>\n",
              "      <td>1.548718</td>\n",
              "      <td>0.403034</td>\n",
              "      <td>-0.407193</td>\n",
              "      <td>0.095921</td>\n",
              "      <td>0.592941</td>\n",
              "      <td>-0.270533</td>\n",
              "      <td>0.817739</td>\n",
              "      <td>...</td>\n",
              "      <td>-0.009431</td>\n",
              "      <td>0.798278</td>\n",
              "      <td>-0.137458</td>\n",
              "      <td>0.141267</td>\n",
              "      <td>-0.206010</td>\n",
              "      <td>0.502292</td>\n",
              "      <td>0.219422</td>\n",
              "      <td>0.215153</td>\n",
              "      <td>69.99</td>\n",
              "      <td>0</td>\n",
              "    </tr>\n",
              "  </tbody>\n",
              "</table>\n",
              "<p>5 rows × 31 columns</p>\n",
              "</div>"
            ],
            "text/plain": [
              "   Time        V1        V2        V3        V4        V5        V6        V7  \\\n",
              "0   0.0 -1.359807 -0.072781  2.536347  1.378155 -0.338321  0.462388  0.239599   \n",
              "1   0.0  1.191857  0.266151  0.166480  0.448154  0.060018 -0.082361 -0.078803   \n",
              "2   1.0 -1.358354 -1.340163  1.773209  0.379780 -0.503198  1.800499  0.791461   \n",
              "3   1.0 -0.966272 -0.185226  1.792993 -0.863291 -0.010309  1.247203  0.237609   \n",
              "4   2.0 -1.158233  0.877737  1.548718  0.403034 -0.407193  0.095921  0.592941   \n",
              "\n",
              "         V8        V9  ...       V21       V22       V23       V24       V25  \\\n",
              "0  0.098698  0.363787  ... -0.018307  0.277838 -0.110474  0.066928  0.128539   \n",
              "1  0.085102 -0.255425  ... -0.225775 -0.638672  0.101288 -0.339846  0.167170   \n",
              "2  0.247676 -1.514654  ...  0.247998  0.771679  0.909412 -0.689281 -0.327642   \n",
              "3  0.377436 -1.387024  ... -0.108300  0.005274 -0.190321 -1.175575  0.647376   \n",
              "4 -0.270533  0.817739  ... -0.009431  0.798278 -0.137458  0.141267 -0.206010   \n",
              "\n",
              "        V26       V27       V28  Amount  Class  \n",
              "0 -0.189115  0.133558 -0.021053  149.62      0  \n",
              "1  0.125895 -0.008983  0.014724    2.69      0  \n",
              "2 -0.139097 -0.055353 -0.059752  378.66      0  \n",
              "3 -0.221929  0.062723  0.061458  123.50      0  \n",
              "4  0.502292  0.219422  0.215153   69.99      0  \n",
              "\n",
              "[5 rows x 31 columns]"
            ]
          },
          "execution_count": 4,
          "metadata": {},
          "output_type": "execute_result"
        }
      ],
      "source": [
        "creditcard.head(5)"
      ]
    },
    {
      "cell_type": "markdown",
      "metadata": {
        "id": "rSO0mGpBy5EP"
      },
      "source": [
        "## Explore Dataset"
      ]
    },
    {
      "cell_type": "markdown",
      "metadata": {
        "id": "0HRcNOCey5EQ"
      },
      "source": [
        "### Scatterplot"
      ]
    },
    {
      "cell_type": "markdown",
      "metadata": {
        "id": "rai4EWiBy5EQ"
      },
      "source": [
        "In this section, we are going to explore the distribution of transactions in the transaction time and amount space by creating a scatterplot. Time and transaction amount are the only two labeled attributes that are present in our dataset."
      ]
    },
    {
      "cell_type": "code",
      "execution_count": null,
      "metadata": {
        "id": "7cMz6qfFy5EQ"
      },
      "outputs": [],
      "source": [
        "def create_scatter_plot(Fraud, Regular, title):\n",
        "    sns.scatterplot(Regular['Time'], Regular['Amount'], label = 'Regular Transaction (0)')\n",
        "    sns.scatterplot(Fraud['Time'], Fraud['Amount'], label = 'Fraud (1)')\n",
        "    plt.legend()\n",
        "    plt.xlabel('Time')\n",
        "    plt.ylabel('Amount')\n",
        "    plt.title(title)\n",
        "    plt.show()"
      ]
    },
    {
      "cell_type": "code",
      "execution_count": null,
      "metadata": {
        "id": "bsaOGx2oy5EQ",
        "outputId": "9e11ded0-0fd2-4f7c-e9fc-8089dba27222"
      },
      "outputs": [
        {
          "data": {
            "image/png": "[encoded data removed]",
            "text/plain": [
              "<Figure size 432x288 with 1 Axes>"
            ]
          },
          "metadata": {
            "needs_background": "light"
          },
          "output_type": "display_data"
        }
      ],
      "source": [
        "title = \"Time vs. Amount (Before balancing data)\"\n",
        "Regular = creditcard[creditcard['Class']== 0]\n",
        "Fraud = creditcard[creditcard['Class']== 1]\n",
        "\n",
        "create_scatter_plot(Fraud, Regular, title)\n"
      ]
    },
    {
      "cell_type": "markdown",
      "metadata": {
        "id": "2CO8pwZYy5ER"
      },
      "source": [
        "In the scatterplot, we can clearly see that regular transactions greatly outnumber fraudulent transactions. We can also observe that the fraudulent transactions also lie in the same space as the regular transactions.\n"
      ]
    },
    {
      "cell_type": "markdown",
      "metadata": {
        "id": "0zBxTRE6y5ER"
      },
      "source": [
        "### Box Plot"
      ]
    },
    {
      "cell_type": "markdown",
      "metadata": {
        "id": "D1w9bOC1y5ER"
      },
      "source": [
        "We also created a box plot to illustrate the significant imbalance between regular transactions and fraudulent transactions."
      ]
    },
    {
      "cell_type": "code",
      "execution_count": null,
      "metadata": {
        "id": "CocgnUhFy5ER",
        "scrolled": true
      },
      "outputs": [],
      "source": [
        "def create_boxplot(Fraud, Regular, title):\n",
        "    fig = plt.figure(figsize = (6, 5))\n",
        "    Not_fraud = len(Regular)\n",
        "    Fraud = len(Fraud)\n",
        "    plt.bar(['Regular Transaction' , 'Fraud'], [Not_fraud, Fraud],\n",
        "            width = 0.3, color = 'maroon')\n",
        "    plt.xlabel(\"Transaction\")\n",
        "    plt.ylabel(\"Fraud\")\n",
        "    plt.title(title)\n",
        "    plt.show()"
      ]
    },
    {
      "cell_type": "code",
      "execution_count": null,
      "metadata": {
        "id": "5RwhdqaZy5ER",
        "outputId": "307bd7bb-2ad2-424c-a3fc-0711faacf558"
      },
      "outputs": [
        {
          "data": {
            "image/png": "[encoded data removed]",
            "text/plain": [
              "<Figure size 432x360 with 1 Axes>"
            ]
          },
          "metadata": {
            "needs_background": "light"
          },
          "output_type": "display_data"
        }
      ],
      "source": [
        "title = \"Credit Card Fraud Detection\"\n",
        "create_boxplot(Fraud, Regular,title)"
      ]
    },
    {
      "cell_type": "code",
      "execution_count": null,
      "metadata": {
        "id": "XMfF8reYy5ER",
        "outputId": "5b2b65a8-b06e-4bb4-fac2-f08536c10e4a"
      },
      "outputs": [
        {
          "name": "stdout",
          "output_type": "stream",
          "text": [
            "The number of Regular Transaction data :  284315\n",
            "The number of Fraud data               :  492\n"
          ]
        }
      ],
      "source": [
        "print(\"The number of Regular Transaction data : \", len(Regular))\n",
        "print(\"The number of Fraud data               : \", len(Fraud))"
      ]
    },
    {
      "cell_type": "markdown",
      "metadata": {
        "id": "jYuPW2Fty5ES"
      },
      "source": [
        "## Applying different models (before Data Preprocessing)\n",
        "In this section, we train three different models: Random Forest Classifier, Logistic Regression, and Gaussian Naive Bayes to see there performance using the original dataset before doing any data preprocessing."
      ]
    },
    {
      "cell_type": "markdown",
      "metadata": {
        "id": "c3iCr7WVy5ES"
      },
      "source": [
        "### Splitting data into train and test sets"
      ]
    },
    {
      "cell_type": "code",
      "execution_count": null,
      "metadata": {
        "id": "cPUzxn2Cy5ET"
      },
      "outputs": [],
      "source": [
        "X = creditcard.drop('Class', axis=1)\n",
        "Y = creditcard.Class\n",
        "X_train, X_test, y_train, y_test = train_test_split(X, Y, train_size=0.75)"
      ]
    },
    {
      "cell_type": "code",
      "execution_count": null,
      "metadata": {
        "id": "ODxAFO5cy5ET",
        "outputId": "b10277eb-49f6-4916-cc1c-a69f0a44debd"
      },
      "outputs": [
        {
          "name": "stdout",
          "output_type": "stream",
          "text": [
            "Training size :  213605\n",
            "Testing size  :  71202\n"
          ]
        }
      ],
      "source": [
        "print(\"Training size : \", len(X_train))\n",
        "print(\"Testing size  : \", len(X_test))"
      ]
    },
    {
      "cell_type": "markdown",
      "metadata": {
        "id": "5CzjVisby5ET"
      },
      "source": [
        "### Random Forest Classifier"
      ]
    },
    {
      "cell_type": "code",
      "execution_count": null,
      "metadata": {
        "id": "Dx_o_qSmy5ET",
        "outputId": "07b1882d-d252-4fdb-d1cc-bcf462ecd75c"
      },
      "outputs": [
        {
          "data": {
            "text/plain": [
              "RandomForestClassifier(max_depth=10, min_samples_split=5)"
            ]
          },
          "execution_count": 24,
          "metadata": {},
          "output_type": "execute_result"
        }
      ],
      "source": [
        "RFC_classifier_None = RandomForestClassifier(criterion= 'gini', max_depth=10, min_samples_split=5)\n",
        "RFC_classifier_None.fit(X_train, y_train)"
      ]
    },
    {
      "cell_type": "code",
      "execution_count": null,
      "metadata": {
        "id": "neofm5Lqy5ET",
        "outputId": "bc637d20-6af2-42d7-d3d1-ac3ad7c9bd22"
      },
      "outputs": [
        {
          "name": "stdout",
          "output_type": "stream",
          "text": [
            "              precision    recall  f1-score   support\n",
            "\n",
            "           0       1.00      1.00      1.00     71094\n",
            "           1       0.94      0.69      0.80       108\n",
            "\n",
            "    accuracy                           1.00     71202\n",
            "   macro avg       0.97      0.85      0.90     71202\n",
            "weighted avg       1.00      1.00      1.00     71202\n",
            "\n",
            "Accuracy score:  0.9994663071262043\n"
          ]
        }
      ],
      "source": [
        "y_pred = RFC_classifier_None.predict(X_test)\n",
        "print(classification_report(y_test, y_pred))\n",
        "print(\"Accuracy score: \" , accuracy_score(y_test, y_pred))"
      ]
    },
    {
      "cell_type": "markdown",
      "metadata": {
        "id": "PDW2poEPy5EU"
      },
      "source": [
        "### Logistic Regression"
      ]
    },
    {
      "cell_type": "code",
      "execution_count": null,
      "metadata": {
        "id": "ObmBg7E1y5EU"
      },
      "outputs": [],
      "source": [
        "Logis_None = LogisticRegression(solver='liblinear')\n",
        "Logis_None.fit(X_train, y_train)\n",
        "Logis_y_pred = Logis_None.predict(X_test)"
      ]
    },
    {
      "cell_type": "code",
      "execution_count": null,
      "metadata": {
        "id": "wOkrKFCZy5EU",
        "outputId": "0f0826ea-ca2e-4e75-d2d1-e881fa7ae995"
      },
      "outputs": [
        {
          "name": "stdout",
          "output_type": "stream",
          "text": [
            "              precision    recall  f1-score   support\n",
            "\n",
            "           0       1.00      1.00      1.00     71094\n",
            "           1       0.81      0.59      0.68       108\n",
            "\n",
            "    accuracy                           1.00     71202\n",
            "   macro avg       0.90      0.80      0.84     71202\n",
            "weighted avg       1.00      1.00      1.00     71202\n",
            "\n",
            "Accuracy score:  0.9991713715906857\n"
          ]
        }
      ],
      "source": [
        "print(classification_report(y_test, Logis_y_pred))\n",
        "print(\"Accuracy score: \" , accuracy_score(y_test, Logis_y_pred))"
      ]
    },
    {
      "cell_type": "markdown",
      "metadata": {
        "id": "m2-wj-eAy5EU"
      },
      "source": [
        "### Gaussian Naive Bayes"
      ]
    },
    {
      "cell_type": "code",
      "execution_count": null,
      "metadata": {
        "id": "7NMtdGiKy5EU",
        "outputId": "93055e36-2420-4a43-bd7c-404ffa5e530b"
      },
      "outputs": [
        {
          "name": "stdout",
          "output_type": "stream",
          "text": [
            "              precision    recall  f1-score   support\n",
            "\n",
            "           0       1.00      0.99      1.00     71094\n",
            "           1       0.14      0.61      0.23       108\n",
            "\n",
            "    accuracy                           0.99     71202\n",
            "   macro avg       0.57      0.80      0.61     71202\n",
            "weighted avg       1.00      0.99      1.00     71202\n",
            "\n",
            "Accuracy score:  0.9938203983034184\n"
          ]
        }
      ],
      "source": [
        "gnb = GaussianNB()\n",
        "gnb_y_pred = gnb.fit(X_train, y_train).predict(X_test)\n",
        "print(classification_report(y_test, gnb_y_pred))\n",
        "print(\"Accuracy score: \" , accuracy_score(y_test, gnb_y_pred))"
      ]
    },
    {
      "cell_type": "markdown",
      "metadata": {
        "id": "ayrAZ8R2y5EV"
      },
      "source": [
        "As we can see from the classification report even if three models produced very high accuracy scores, the precision and recall are not as high as their accuracy scores."
      ]
    },
    {
      "cell_type": "markdown",
      "metadata": {
        "id": "Px6881ljy5EV"
      },
      "source": [
        "## Data Preprocessing\n",
        "In this section, we are trying to preprocess data by using two different methods, oversampling and undersampling."
      ]
    },
    {
      "cell_type": "markdown",
      "metadata": {
        "id": "T4AtBiVAy5EV"
      },
      "source": [
        "### Oversampling"
      ]
    },
    {
      "cell_type": "code",
      "execution_count": null,
      "metadata": {
        "id": "65-UUEDvy5EV"
      },
      "outputs": [],
      "source": [
        "def over_sampling_dataset(n_samples, creditcard):\n",
        "    not_Fraud = creditcard[creditcard['Class']==0]\n",
        "    Fraud = creditcard[creditcard['Class']==1]\n",
        "    X_Fraud = Fraud.drop('Class', axis=1)\n",
        "    Y_Fraud = Fraud.Class\n",
        "    X_Fraud_train, X_Fraud_test, y_Fraud_train, y_Fraud_test = train_test_split(X_Fraud, Y_Fraud, train_size=0.75)\n",
        "\n",
        "    X_not_Fraud = not_Fraud.drop('Class', axis=1)\n",
        "    Y_not_Fraud = not_Fraud.Class\n",
        "    X_not_Fraud_train, X_not_Fraud_test, y_not_Fraud_train, y_not_Fraud_test = train_test_split(X_not_Fraud, Y_not_Fraud, train_size=0.75)\n",
        "\n",
        "    Fraud_upsampled = resample(X_Fraud_train,\n",
        "                                 replace=True,    # sample with replacement\n",
        "                                 n_samples= n_samples, # to match majority class\n",
        "                                 random_state=42)  # reproducible results\n",
        "    temp_y = np.zeros(n_samples)\n",
        "    temp_y += 1\n",
        "    temp_y = temp_y.astype(int)\n",
        "    Fraud_upsampled.insert(30, 'Class', temp_y, True)\n",
        "    New_X_Fraud = Fraud_upsampled.drop('Class', axis=1)\n",
        "    New_Y_Fraud = Fraud_upsampled.Class\n",
        "\n",
        "    resampled_X_train = pd.concat([X_not_Fraud_train,New_X_Fraud])\n",
        "    resampled_Y_train = pd.concat([y_not_Fraud_train,New_Y_Fraud])\n",
        "    resampled_X_test = pd.concat([X_Fraud_test,X_not_Fraud_test])\n",
        "    resampled_Y_test = pd.concat([y_Fraud_test,y_not_Fraud_test])\n",
        "    return New_X_Fraud, X_not_Fraud_train, resampled_X_train, resampled_Y_train, resampled_X_test, resampled_Y_test\n"
      ]
    },
    {
      "cell_type": "code",
      "execution_count": null,
      "metadata": {
        "id": "cIvrIP8Ny5EV"
      },
      "outputs": [],
      "source": [
        "New_X_Fraud, X_not_Fraud_train, resampled_X_train, resampled_Y_train, resampled_X_test, resampled_Y_test = over_sampling_dataset(213236, creditcard)\n"
      ]
    },
    {
      "cell_type": "markdown",
      "metadata": {
        "id": "5Edn_Ciby5EW"
      },
      "source": [
        "### Boxplot after oversampling"
      ]
    },
    {
      "cell_type": "code",
      "execution_count": null,
      "metadata": {
        "id": "qEyL4I5Ay5EW",
        "outputId": "4350f58e-658d-45b1-a676-2f4779520841"
      },
      "outputs": [
        {
          "data": {
            "image/png": "[encoded data removed]",
            "text/plain": [
              "<Figure size 432x360 with 1 Axes>"
            ]
          },
          "metadata": {
            "needs_background": "light"
          },
          "output_type": "display_data"
        }
      ],
      "source": [
        "title = \"Credit Card Fraud Detection (oversampled)\"\n",
        "create_boxplot(resampled_Y_train[resampled_Y_train == 1],resampled_Y_train[resampled_Y_train == 0], title)"
      ]
    },
    {
      "cell_type": "code",
      "execution_count": null,
      "metadata": {
        "id": "A78AQ7joy5EW",
        "outputId": "b9abd051-a746-42cc-99d2-9ad2091f8d4f"
      },
      "outputs": [
        {
          "name": "stdout",
          "output_type": "stream",
          "text": [
            "Total count for non-Fraud : 213236\n",
            "Total count for Fraud     : 213236\n"
          ]
        }
      ],
      "source": [
        "print(\"Total count for non-Fraud :\",len(resampled_Y_train[resampled_Y_train == 0]))\n",
        "print(\"Total count for Fraud     :\",len(resampled_Y_train[resampled_Y_train == 1]))"
      ]
    },
    {
      "cell_type": "markdown",
      "metadata": {
        "id": "aAlJTr5Ry5EW"
      },
      "source": [
        "## Scatter plot after oversampling"
      ]
    },
    {
      "cell_type": "code",
      "execution_count": null,
      "metadata": {
        "id": "XSA-F0RMy5EX",
        "outputId": "f199cf41-0cbc-4454-bc05-d4ff778077d8"
      },
      "outputs": [
        {
          "data": {
            "image/png": "[encoded data removed]",
            "text/plain": [
              "<Figure size 432x288 with 1 Axes>"
            ]
          },
          "metadata": {
            "needs_background": "light"
          },
          "output_type": "display_data"
        }
      ],
      "source": [
        "title = \"Time vs. Amount (After oversampling data)\"\n",
        "create_scatter_plot(New_X_Fraud, X_not_Fraud_train, title)"
      ]
    },
    {
      "cell_type": "markdown",
      "metadata": {
        "id": "kKN-s_FVy5EX"
      },
      "source": [
        "## Applying different models (After Oversampling)"
      ]
    },
    {
      "cell_type": "markdown",
      "metadata": {
        "id": "DGI3cEi_y5EY"
      },
      "source": [
        "### Random Forest Classifier"
      ]
    },
    {
      "cell_type": "code",
      "execution_count": null,
      "metadata": {
        "id": "AfA7_ASzy5EY",
        "outputId": "0f71c194-3e25-4e7c-d738-8f3dc7d0b7eb"
      },
      "outputs": [
        {
          "data": {
            "text/plain": [
              "RandomForestClassifier(max_depth=10, min_samples_split=5)"
            ]
          },
          "execution_count": 82,
          "metadata": {},
          "output_type": "execute_result"
        }
      ],
      "source": [
        "RFC_classifier_Oversampled = RandomForestClassifier(criterion= 'gini', max_depth=10, min_samples_split=5)\n",
        "RFC_classifier_Oversampled.fit(resampled_X_train, resampled_Y_train)"
      ]
    },
    {
      "cell_type": "code",
      "execution_count": null,
      "metadata": {
        "id": "46OMUIfvy5EY",
        "outputId": "5d6b2d8b-4ba6-4843-ebd5-ab7191f711bb"
      },
      "outputs": [
        {
          "name": "stdout",
          "output_type": "stream",
          "text": [
            "              precision    recall  f1-score   support\n",
            "\n",
            "           0       1.00      1.00      1.00     71079\n",
            "           1       0.74      0.85      0.80       123\n",
            "\n",
            "    accuracy                           1.00     71202\n",
            "   macro avg       0.87      0.93      0.90     71202\n",
            "weighted avg       1.00      1.00      1.00     71202\n",
            "\n",
            "Accuracy score:  0.9992415943372377\n"
          ]
        }
      ],
      "source": [
        "y_pred = RFC_classifier_Oversampled.predict(resampled_X_test)\n",
        "print(classification_report(resampled_Y_test, y_pred))\n",
        "print(\"Accuracy score: \" , accuracy_score(resampled_Y_test, y_pred))"
      ]
    },
    {
      "cell_type": "markdown",
      "metadata": {
        "id": "4CF3emqVy5EY"
      },
      "source": [
        "### Logistic Regression"
      ]
    },
    {
      "cell_type": "code",
      "execution_count": null,
      "metadata": {
        "id": "fyUgPBkzy5EY",
        "outputId": "7e69cf9a-4c12-41a9-d55d-6cf3a2aefc9b"
      },
      "outputs": [
        {
          "data": {
            "text/plain": [
              "LogisticRegression(solver='liblinear')"
            ]
          },
          "execution_count": 84,
          "metadata": {},
          "output_type": "execute_result"
        }
      ],
      "source": [
        "Logis_None = LogisticRegression(solver='liblinear')\n",
        "Logis_None.fit(resampled_X_train, resampled_Y_train)"
      ]
    },
    {
      "cell_type": "code",
      "execution_count": null,
      "metadata": {
        "id": "NxdYpE5Xy5EZ",
        "outputId": "b89208f7-c768-4faa-f45f-36f7ca1f025b"
      },
      "outputs": [
        {
          "name": "stdout",
          "output_type": "stream",
          "text": [
            "              precision    recall  f1-score   support\n",
            "\n",
            "           0       1.00      0.97      0.98     71079\n",
            "           1       0.05      0.93      0.09       123\n",
            "\n",
            "    accuracy                           0.97     71202\n",
            "   macro avg       0.52      0.95      0.54     71202\n",
            "weighted avg       1.00      0.97      0.98     71202\n",
            "\n",
            "Accuracy score:  0.9680205612201904\n"
          ]
        }
      ],
      "source": [
        "Logis_y_pred = Logis_None.predict(resampled_X_test)\n",
        "print(classification_report(resampled_Y_test, Logis_y_pred))\n",
        "print(\"Accuracy score: \" , accuracy_score(resampled_Y_test, Logis_y_pred))"
      ]
    },
    {
      "cell_type": "markdown",
      "metadata": {
        "id": "ds1LmBsjy5EZ"
      },
      "source": [
        "### Gaussian Naive Bayes"
      ]
    },
    {
      "cell_type": "code",
      "execution_count": null,
      "metadata": {
        "id": "1rftD5Guy5EZ",
        "outputId": "c91c4933-fcb7-4449-e48b-f9272fa2c40f"
      },
      "outputs": [
        {
          "name": "stdout",
          "output_type": "stream",
          "text": [
            "              precision    recall  f1-score   support\n",
            "\n",
            "           0       1.00      0.99      0.99     71079\n",
            "           1       0.12      0.78      0.21       123\n",
            "\n",
            "    accuracy                           0.99     71202\n",
            "   macro avg       0.56      0.89      0.60     71202\n",
            "weighted avg       1.00      0.99      0.99     71202\n",
            "\n",
            "Accuracy score:  0.9899862363416758\n"
          ]
        }
      ],
      "source": [
        "gnb = GaussianNB()\n",
        "gnb_y_pred = gnb.fit(resampled_X_train, resampled_Y_train).predict(resampled_X_test)\n",
        "print(classification_report(resampled_Y_test, gnb_y_pred))\n",
        "print(\"Accuracy score: \" , accuracy_score(resampled_Y_test, gnb_y_pred))"
      ]
    },
    {
      "cell_type": "markdown",
      "metadata": {
        "id": "yIuenIgAy5EZ"
      },
      "source": [
        "Over-sampling did not really help models predict accurate values, and the performance was even worse. Our assumption is that over-sampling confused our models since many fraud data overlapped with the regular transactions. In addition, oversampling tends to cause overfitting."
      ]
    },
    {
      "cell_type": "markdown",
      "metadata": {
        "id": "hHkUEdyHy5EZ"
      },
      "source": [
        "### Undersampling"
      ]
    },
    {
      "cell_type": "code",
      "execution_count": null,
      "metadata": {
        "id": "RJyJ80v2y5Ea"
      },
      "outputs": [],
      "source": [
        "def under_sampling_data(creditcard, rate):\n",
        "    X = creditcard.drop('Class', axis=1)\n",
        "    y = creditcard.Class\n",
        "    rus = RandomUnderSampler(sampling_strategy=rate)\n",
        "    X_res, y_res = rus.fit_resample(X, y)\n",
        "    return X_res, y_res\n",
        "x_undersampled, y_undersampled = under_sampling_data(creditcard, 0.8)"
      ]
    },
    {
      "cell_type": "code",
      "execution_count": null,
      "metadata": {
        "id": "ahzw6SEpy5Ea",
        "outputId": "378b00c4-69d1-4d66-a459-6f4cf6b6ef20"
      },
      "outputs": [
        {
          "name": "stdout",
          "output_type": "stream",
          "text": [
            "Class values after undersampled\n",
            "0    615\n",
            "1    492\n",
            "Name: Class, dtype: int64\n"
          ]
        }
      ],
      "source": [
        "print(\"Class values after undersampled\")\n",
        "print(pd.value_counts(y_undersampled))"
      ]
    },
    {
      "cell_type": "code",
      "execution_count": null,
      "metadata": {
        "id": "HYr5jtWCy5Ea"
      },
      "outputs": [],
      "source": [
        "x_undersampled['Class'] = y_undersampled"
      ]
    },
    {
      "cell_type": "code",
      "execution_count": null,
      "metadata": {
        "id": "MArjCc_Yy5Ea",
        "outputId": "f109ca25-959c-48e6-fbc9-d1502dc38511"
      },
      "outputs": [
        {
          "data": {
            "image/png": "[encoded data removed]",
            "text/plain": [
              "<Figure size 432x360 with 1 Axes>"
            ]
          },
          "metadata": {
            "needs_background": "light"
          },
          "output_type": "display_data"
        }
      ],
      "source": [
        "title = \"Credit Card Fraud Detection (undersampled)\"\n",
        "create_boxplot(y_undersampled[y_undersampled==1], y_undersampled[y_undersampled==0], title)"
      ]
    },
    {
      "cell_type": "code",
      "execution_count": null,
      "metadata": {
        "id": "5BK1-lu2y5Eb",
        "outputId": "f41d36f9-b2ec-4df4-d060-8aecc67b00f3"
      },
      "outputs": [
        {
          "data": {
            "image/png": "[encoded data removed]",
            "text/plain": [
              "<Figure size 432x288 with 1 Axes>"
            ]
          },
          "metadata": {
            "needs_background": "light"
          },
          "output_type": "display_data"
        }
      ],
      "source": [
        "title = \"Time vs. Amount (After undersampling data)\"\n",
        "create_scatter_plot(x_undersampled[x_undersampled['Class']== 1],x_undersampled[x_undersampled['Class']== 0], title)"
      ]
    },
    {
      "cell_type": "markdown",
      "metadata": {
        "id": "ovT8yCQSy5Eb"
      },
      "source": [
        "### Applying different models (After Undersampling)"
      ]
    },
    {
      "cell_type": "code",
      "execution_count": null,
      "metadata": {
        "id": "O_R1iOcLy5Eb"
      },
      "outputs": [],
      "source": [
        "x_undersampled = x_undersampled.drop('Class', axis =1)"
      ]
    },
    {
      "cell_type": "code",
      "execution_count": null,
      "metadata": {
        "id": "MedCP_bYy5Ec"
      },
      "outputs": [],
      "source": [
        "X_under_train, X_under_test, y_under_train, y_under_test = train_test_split(x_undersampled, y_undersampled, train_size=0.75)\n"
      ]
    },
    {
      "cell_type": "markdown",
      "metadata": {
        "id": "Cg7xiYtby5Ec"
      },
      "source": [
        "### Random Forest Classifier"
      ]
    },
    {
      "cell_type": "code",
      "execution_count": null,
      "metadata": {
        "id": "Wp6kmmqey5Ec",
        "outputId": "815d2752-b3c5-4cb8-fc51-b18084cec223"
      },
      "outputs": [
        {
          "data": {
            "text/plain": [
              "RandomForestClassifier(max_depth=10, min_samples_split=5)"
            ]
          },
          "execution_count": 231,
          "metadata": {},
          "output_type": "execute_result"
        }
      ],
      "source": [
        "RFC_classifier_Undersampled = RandomForestClassifier(criterion= 'gini', max_depth=10, min_samples_split=5)\n",
        "RFC_classifier_Undersampled.fit(X_under_train, y_under_train)"
      ]
    },
    {
      "cell_type": "code",
      "execution_count": null,
      "metadata": {
        "id": "5DzjSX-Ky5Ec",
        "outputId": "a8645aa1-3cea-4937-e7ec-c20f33ff6d6d"
      },
      "outputs": [
        {
          "name": "stdout",
          "output_type": "stream",
          "text": [
            "              precision    recall  f1-score   support\n",
            "\n",
            "           0       0.94      0.99      0.97       157\n",
            "           1       0.99      0.92      0.95       120\n",
            "\n",
            "    accuracy                           0.96       277\n",
            "   macro avg       0.97      0.96      0.96       277\n",
            "weighted avg       0.96      0.96      0.96       277\n",
            "\n",
            "Accuracy score:  0.9602888086642599\n"
          ]
        }
      ],
      "source": [
        "y_pred = RFC_classifier_Undersampled.predict(X_under_test)\n",
        "print(classification_report(y_under_test, y_pred))\n",
        "print(\"Accuracy score: \" , accuracy_score(y_under_test, y_pred))"
      ]
    },
    {
      "cell_type": "markdown",
      "metadata": {
        "id": "p9eRhNzLy5Ec"
      },
      "source": [
        "### Logistic Regression"
      ]
    },
    {
      "cell_type": "code",
      "execution_count": null,
      "metadata": {
        "id": "-8a7QRtAy5Ec",
        "outputId": "639cd454-70f5-4817-cde3-4ce0c6e60516"
      },
      "outputs": [
        {
          "data": {
            "text/plain": [
              "LogisticRegression(solver='liblinear')"
            ]
          },
          "execution_count": 233,
          "metadata": {},
          "output_type": "execute_result"
        }
      ],
      "source": [
        "Logis_Undersampled = LogisticRegression(solver='liblinear')\n",
        "Logis_Undersampled.fit(X_under_train, y_under_train)"
      ]
    },
    {
      "cell_type": "code",
      "execution_count": null,
      "metadata": {
        "id": "b3n-Rq4ty5Ed",
        "outputId": "56becefa-861c-4fa8-f144-c8cab5ec227f"
      },
      "outputs": [
        {
          "name": "stdout",
          "output_type": "stream",
          "text": [
            "              precision    recall  f1-score   support\n",
            "\n",
            "           0       0.94      0.99      0.96       157\n",
            "           1       0.98      0.92      0.95       120\n",
            "\n",
            "    accuracy                           0.96       277\n",
            "   macro avg       0.96      0.95      0.96       277\n",
            "weighted avg       0.96      0.96      0.96       277\n",
            "\n",
            "Accuracy score:  0.9566787003610109\n"
          ]
        }
      ],
      "source": [
        "Logis_y_pred = Logis_Undersampled.predict(X_under_test)\n",
        "print(classification_report(y_under_test, Logis_y_pred))\n",
        "print(\"Accuracy score: \" , accuracy_score(y_under_test, Logis_y_pred))"
      ]
    },
    {
      "cell_type": "markdown",
      "metadata": {
        "id": "_hOyVHb4y5Ed"
      },
      "source": [
        "### Gaussian Naive Bayes"
      ]
    },
    {
      "cell_type": "code",
      "execution_count": null,
      "metadata": {
        "id": "F6AWqvnNy5Ed",
        "outputId": "76cfdeba-8a4c-464d-e6e9-a543950b10a9"
      },
      "outputs": [
        {
          "name": "stdout",
          "output_type": "stream",
          "text": [
            "              precision    recall  f1-score   support\n",
            "\n",
            "           0       0.84      0.99      0.91       157\n",
            "           1       0.99      0.75      0.85       120\n",
            "\n",
            "    accuracy                           0.89       277\n",
            "   macro avg       0.91      0.87      0.88       277\n",
            "weighted avg       0.90      0.89      0.89       277\n",
            "\n",
            "Accuracy score:  0.8880866425992779\n"
          ]
        }
      ],
      "source": [
        "gnb = GaussianNB()\n",
        "gnb_y_pred = gnb.fit(X_under_train, y_under_train).predict(X_under_test)\n",
        "print(classification_report(y_under_test, gnb_y_pred))\n",
        "print(\"Accuracy score: \" , accuracy_score(y_under_test, gnb_y_pred))"
      ]
    },
    {
      "cell_type": "code",
      "execution_count": null,
      "metadata": {
        "id": "Koz3NHkcy5Ed",
        "outputId": "80da1c0f-9381-46a3-83b6-1437620663df"
      },
      "outputs": [
        {
          "name": "stdout",
          "output_type": "stream",
          "text": [
            "              precision    recall  f1-score   support\n",
            "\n",
            "           0       0.93      0.94      0.93       157\n",
            "           1       0.92      0.90      0.91       120\n",
            "\n",
            "    accuracy                           0.92       277\n",
            "   macro avg       0.92      0.92      0.92       277\n",
            "weighted avg       0.92      0.92      0.92       277\n",
            "\n",
            "Accuracy score:  0.924187725631769\n"
          ]
        }
      ],
      "source": [
        "from sklearn import tree\n",
        "clf = tree.DecisionTreeClassifier()\n",
        "clf.fit(X_under_train, y_under_train)\n",
        "\n",
        "clf_pred = clf.predict(X_under_test)\n",
        "print(classification_report(y_under_test, clf_pred))\n",
        "print(\"Accuracy score: \" , accuracy_score(y_under_test, clf_pred))"
      ]
    },
    {
      "cell_type": "markdown",
      "metadata": {
        "id": "4oTgug76y5Ed"
      },
      "source": [
        "Undersampling increased precision and recall. However, at the same time, the accuracy score dropped. However, its performance is far better than oversampling. Therefore, we plan to use undersampled dataset as input to our ensemble classifier in the next section."
      ]
    },
    {
      "cell_type": "markdown",
      "metadata": {
        "id": "N43Rarhwy5Ee"
      },
      "source": [
        "## Ensemble Learning"
      ]
    },
    {
      "cell_type": "markdown",
      "metadata": {
        "id": "Fe-jeU7Ry5Ee"
      },
      "source": [
        "In this section, we are trying to build a ensemble model that combines three models (Random Forest, Logistic Regression, Gaussian Naive Bayes) in the prediction stage and perform majority voting to classify transactions. Our ensemble classifier works as follows:\n",
        "\n",
        "1. Train Random Forest, Logistic Regression, and Gaussian Naive Bayes classifiers on the training partition of the    undersampled dataset.\n",
        "2. Test each classifier on the testing partition and save each of their predictions in the form of bit array.\n",
        "3. Create a new bit array that reflects the majority votes of the 3 classifiers by comparing the bit arrays of the    3 classfiers. The new bit array is the prediction of our ensemble classifier.\n"
      ]
    },
    {
      "cell_type": "code",
      "execution_count": null,
      "metadata": {
        "id": "kOUSAZwMy5Ee"
      },
      "outputs": [],
      "source": [
        "X_under_train, X_under_test, y_under_train, y_under_test = train_test_split(x_undersampled, y_undersampled, train_size=0.80)\n"
      ]
    },
    {
      "cell_type": "code",
      "execution_count": null,
      "metadata": {
        "id": "vif5SP15y5Ee",
        "outputId": "cc276f8b-cf91-4657-cce3-d0d6d660b855"
      },
      "outputs": [
        {
          "name": "stdout",
          "output_type": "stream",
          "text": [
            "              precision    recall  f1-score   support\n",
            "\n",
            "           0       0.91      0.98      0.95       118\n",
            "           1       0.98      0.89      0.93       104\n",
            "\n",
            "    accuracy                           0.94       222\n",
            "   macro avg       0.95      0.94      0.94       222\n",
            "weighted avg       0.94      0.94      0.94       222\n",
            "\n",
            "Accuracy score:  0.9414414414414415\n"
          ]
        }
      ],
      "source": [
        "RFC_classifier_Undersampled = RandomForestClassifier(criterion= 'gini', max_depth=10, min_samples_split=5)\n",
        "RFC_classifier_Undersampled.fit(X_under_train, y_under_train)\n",
        "RFC_y_pred = RFC_classifier_Undersampled.predict(X_under_test)\n",
        "print(classification_report(y_under_test, RFC_y_pred))\n",
        "print(\"Accuracy score: \" , accuracy_score(y_under_test, RFC_y_pred))"
      ]
    },
    {
      "cell_type": "code",
      "execution_count": null,
      "metadata": {
        "id": "slS8RbpSy5Ee",
        "outputId": "041ba0ad-ad93-4b36-8ae6-22463355b2f4"
      },
      "outputs": [
        {
          "name": "stdout",
          "output_type": "stream",
          "text": [
            "              precision    recall  f1-score   support\n",
            "\n",
            "           0       0.89      1.00      0.94       118\n",
            "           1       1.00      0.86      0.92       104\n",
            "\n",
            "    accuracy                           0.93       222\n",
            "   macro avg       0.94      0.93      0.93       222\n",
            "weighted avg       0.94      0.93      0.93       222\n",
            "\n",
            "Accuracy score:  0.9324324324324325\n"
          ]
        }
      ],
      "source": [
        "Logis_Undersampled = LogisticRegression(solver='liblinear')\n",
        "Logis_Undersampled.fit(X_under_train, y_under_train)\n",
        "Logis_y_pred = Logis_Undersampled.predict(X_under_test)\n",
        "print(classification_report(y_under_test, Logis_y_pred))\n",
        "print(\"Accuracy score: \" , accuracy_score(y_under_test, Logis_y_pred))"
      ]
    },
    {
      "cell_type": "code",
      "execution_count": null,
      "metadata": {
        "id": "C3t3diFxy5Ef",
        "outputId": "c1e72100-a50e-4004-c9c2-669637d1b4b6"
      },
      "outputs": [
        {
          "name": "stdout",
          "output_type": "stream",
          "text": [
            "              precision    recall  f1-score   support\n",
            "\n",
            "           0       0.83      0.98      0.90       118\n",
            "           1       0.98      0.78      0.87       104\n",
            "\n",
            "    accuracy                           0.89       222\n",
            "   macro avg       0.91      0.88      0.88       222\n",
            "weighted avg       0.90      0.89      0.89       222\n",
            "\n",
            "Accuracy score:  0.8873873873873874\n"
          ]
        }
      ],
      "source": [
        "gnb = GaussianNB()\n",
        "gnb_y_pred = gnb.fit(X_under_train, y_under_train).predict(X_under_test)\n",
        "\n",
        "print(classification_report(y_under_test, gnb_y_pred))\n",
        "print(\"Accuracy score: \" , accuracy_score(y_under_test, gnb_y_pred))"
      ]
    },
    {
      "cell_type": "code",
      "execution_count": null,
      "metadata": {
        "id": "nt6sj07Ny5Ef"
      },
      "outputs": [],
      "source": [
        "Ensemble_result = RFC_y_pred + Logis_y_pred + gnb_y_pred\n",
        "Ensemble_result[np.where(Ensemble_result >= 2)] = 1"
      ]
    },
    {
      "cell_type": "code",
      "execution_count": null,
      "metadata": {
        "id": "zjAFG3bVy5Ef",
        "outputId": "72a86a69-418b-45ef-dcba-60a3f5d524ea"
      },
      "outputs": [
        {
          "name": "stdout",
          "output_type": "stream",
          "text": [
            "              precision    recall  f1-score   support\n",
            "\n",
            "           0       0.92      0.97      0.95       118\n",
            "           1       0.97      0.90      0.94       104\n",
            "\n",
            "    accuracy                           0.94       222\n",
            "   macro avg       0.94      0.94      0.94       222\n",
            "weighted avg       0.94      0.94      0.94       222\n",
            "\n",
            "Accuracy score:  0.9414414414414415\n"
          ]
        }
      ],
      "source": [
        "print(classification_report(y_under_test, Ensemble_result))\n",
        "print(\"Accuracy score: \" , accuracy_score(y_under_test, Ensemble_result))"
      ]
    },
    {
      "cell_type": "markdown",
      "metadata": {
        "id": "8wz6xbpKy5Ef"
      },
      "source": [
        "The ensemble model did not produce the best precision and recall scores, however, it was helpful to overcome weakness of each model and still produced high stable scores in all categories (precision, recall, accuracy) compared to those single models."
      ]
    }
  ],
  "metadata": {
    "colab": {
      "provenance": []
    },
    "kernelspec": {
      "display_name": "Python 3 (ipykernel)",
      "language": "python",
      "name": "python3"
    },
    "language_info": {
      "codemirror_mode": {
        "name": "ipython",
        "version": 3
      },
      "file_extension": ".py",
      "mimetype": "text/x-python",
      "name": "python",
      "nbconvert_exporter": "python",
      "pygments_lexer": "ipython3",
      "version": "3.9.12"
    }
  },
  "nbformat": 4,
  "nbformat_minor": 0
}
